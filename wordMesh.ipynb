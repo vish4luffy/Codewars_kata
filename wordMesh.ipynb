{
 "cells": [
  {
   "cell_type": "raw",
   "metadata": {},
   "source": [
    "[\"allow\", \"lowering\", \"ringmaster\", \"terror\"] --> \"lowringter\"\n",
    "\n",
    "[\"kingdom\", \"dominator\", \"notorious\", \"usual\", \"allegory\"] --> \"failed to mesh\""
   ]
  },
  {
   "cell_type": "raw",
   "metadata": {},
   "source": [
    "Pseudocode:\n",
    "\n",
    "I need to compare string in i and i+1 positions till the end of the list of strings\n",
    "Details of comparison:\n",
    "compare each character of string i with 1st character of string i+1 and if both are equal:\n",
    "then append to a new string and compare subsequent characters till the end of string i and till corresponding character of string i+1"
   ]
  },
  {
   "cell_type": "code",
   "execution_count": 1,
   "metadata": {},
   "outputs": [],
   "source": [
    "def word_mesh(arr):\n",
    "    # n-1 comparisons for n strings\n",
    "    l1=[]; s1=\"\"\n",
    "    for i in range(len(arr)-1): \n",
    "        # for each in arr[i]:\n",
    "        for j in range(len(arr[i])):\n",
    "            if arr[i][j]==arr[i+1][0]:\n",
    "            # if each==arr[i+1][0]:\n",
    "                pass\n",
    "        \n",
    "        # print(arr[i],arr[i+1])        \n",
    "        "
   ]
  },
  {
   "cell_type": "code",
   "execution_count": 2,
   "metadata": {},
   "outputs": [
    {
     "name": "stdout",
     "output_type": "stream",
     "text": [
      "allow lowering\n",
      "lowering ringmaster\n",
      "ringmaster terror\n"
     ]
    }
   ],
   "source": [
    "l1=[\"allow\", \"lowering\", \"ringmaster\", \"terror\"]\n",
    "\n",
    "word_mesh(l1)"
   ]
  },
  {
   "cell_type": "code",
   "execution_count": null,
   "metadata": {},
   "outputs": [],
   "source": []
  }
 ],
 "metadata": {
  "kernelspec": {
   "display_name": "Python 3",
   "language": "python",
   "name": "python3"
  },
  "language_info": {
   "codemirror_mode": {
    "name": "ipython",
    "version": 3
   },
   "file_extension": ".py",
   "mimetype": "text/x-python",
   "name": "python",
   "nbconvert_exporter": "python",
   "pygments_lexer": "ipython3",
   "version": "3.7.0"
  }
 },
 "nbformat": 4,
 "nbformat_minor": 2
}
