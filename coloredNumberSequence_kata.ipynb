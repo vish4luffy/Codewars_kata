{
 "cells": [
  {
   "cell_type": "raw",
   "metadata": {},
   "source": [
    "The sequence is of the format: ['red','yellow','blue']\n",
    "\n",
    "1 2 3 4 5 6 7 8 9 10 11 12 13.....\n",
    "\n",
    "ex: 1-red; 2-yellow; 3-blue etc.\n",
    "\n",
    "\n",
    "We have a recursive function as below:\n",
    "\n",
    "\n",
    "f(1) = 1\n",
    "\n",
    "\n",
    "f(n) = f(n - 1) + n"
   ]
  },
  {
   "cell_type": "raw",
   "metadata": {},
   "source": [
    "The three terms of the same colour \"blue\", higher than 3, are: [6, 15, 21]\n",
    "\n",
    "We need a function same_col_seq(), that may receive three arguments:\n",
    "\n",
    "val, an integer number\n",
    "k, an integer number\n",
    "colour, the name of one of the three colours(red, yellow or blue), as a string.\n",
    "\n",
    "The function will output a sorted array with the smallest k terms, having the same marked colour, but higher than val.\n",
    "\n",
    "Let's see some examples:\n",
    "\n",
    "same_col_seq(3, 3, 'blue') == [6, 15, 21]\n",
    "same_col_seq(100, 4, 'red') == [136, 190, 253, 325]\n",
    "The function may output an empty list if it does not find terms of the sequence with the wanted colour in the range [val, 2 k val]\n",
    "\n",
    "same_col_seq(250, 6, 'yellow') == []\n",
    "That means that the function did not find any \"yellow\" term in the range [250, 3000]\n",
    "\n",
    "Tests will be with the following features:\n",
    "\n",
    "number of tests = 100\n",
    "100 < val < 1000000\n",
    "3 < k < 20"
   ]
  },
  {
   "cell_type": "raw",
   "metadata": {},
   "source": [
    "Approach:\n",
    "\n",
    "1. Have 1 dict with 3 keys namely 'red','yellow','blue' with sequence of numbers generated as lists till a bound of (2*k*val)\n",
    "2. Have a list that has values obtained from the recursive function provided in the problem statement from 1 till (2*k*val)\n",
    "3. Then have a loop that runs between range(val,2*k*val) to fetch k numbers after val in an ascending order; if there aren't k numbers after val for a specific set of (val,k,'color') inputs, then return an empty list, i.e. [] "
   ]
  },
  {
   "cell_type": "raw",
   "metadata": {},
   "source": [
    "Basic Tests\n",
    "\n",
    "test.assert_equals(same_col_seq(3, 3, 'blue'),  [6, 15, 21])\n",
    "test.assert_equals(same_col_seq(100, 4, 'red'), [136, 190, 253, 325])\n",
    "test.assert_equals(same_col_seq(250, 6, 'yellow'), [])\n",
    "test.assert_equals(same_col_seq(1000, 7, 'red'), [1081, 1225, 1378, 1540, 1711, 1891, 2080])"
   ]
  },
  {
   "cell_type": "code",
   "execution_count": 8,
   "metadata": {},
   "outputs": [
    {
     "name": "stdout",
     "output_type": "stream",
     "text": [
      "[3, 6, 9, 12, 15, 18, 21, 24, 27, 30, 33, 36, 39, 42, 45, 48, 51, 54, 57, 60, 63, 66, 69, 72, 75, 78, 81, 84, 87, 90, 93, 96, 99, 102, 105, 108, 111, 114, 117, 120, 123, 126, 129, 132, 135, 138, 141, 144, 147, 150, 153, 156, 159, 162, 165, 168, 171, 174, 177, 180, 183, 186, 189, 192, 195, 198, 201, 204, 207, 210, 213, 216, 219, 222, 225, 228, 231, 234, 237, 240, 243, 246, 249, 252, 255, 258, 261, 264, 267, 270, 273, 276, 279, 282, 285, 288, 291, 294, 297, 300, 303, 306, 309, 312, 315, 318, 321, 324, 327, 330, 333, 336, 339, 342, 345, 348, 351, 354, 357, 360, 363, 366, 369, 372, 375, 378, 381, 384, 387, 390, 393, 396, 399]\n"
     ]
    }
   ],
   "source": [
    "test_dict={'r':[1], 'y':[2], 'b':[3]}\n",
    "k=2; val=100;\n",
    "y=[i for i in range(3,2*k*val,3)]\n",
    "# print(y)\n"
   ]
  },
  {
   "cell_type": "code",
   "execution_count": 11,
   "metadata": {},
   "outputs": [],
   "source": [
    "def rec_list(k, val):\n",
    "    lower=1; \n",
    "    upper=2*k*val\n",
    "    recList=[1]\n",
    "    for i in range(2,upper):\n",
    "        rec_i=lower+i\n",
    "        recList.append(rec_i)\n",
    "        lower=rec_i\n",
    "    return recList"
   ]
  },
  {
   "cell_type": "code",
   "execution_count": 12,
   "metadata": {},
   "outputs": [
    {
     "name": "stdout",
     "output_type": "stream",
     "text": [
      "[1, 3, 6, 10, 15, 21, 28, 36, 45, 55, 66, 78, 91, 105, 120, 136, 153, 171, 190, 210, 231, 253, 276, 300, 325, 351, 378, 406, 435, 465, 496, 528, 561, 595, 630, 666, 703, 741, 780, 820, 861, 903, 946, 990, 1035, 1081, 1128, 1176, 1225, 1275, 1326, 1378, 1431, 1485, 1540, 1596, 1653, 1711, 1770, 1830, 1891, 1953, 2016, 2080, 2145, 2211, 2278, 2346, 2415, 2485, 2556, 2628, 2701, 2775, 2850, 2926, 3003, 3081, 3160, 3240, 3321, 3403, 3486, 3570, 3655, 3741, 3828, 3916, 4005, 4095, 4186, 4278, 4371, 4465, 4560, 4656, 4753, 4851, 4950]\n"
     ]
    }
   ],
   "source": [
    "print(rec_list(1,50))"
   ]
  },
  {
   "cell_type": "code",
   "execution_count": 32,
   "metadata": {},
   "outputs": [],
   "source": [
    "def same_col_seq(val, k, col):\n",
    "    # your code here\n",
    "    # r, y, b = [1], [2], [3]\n",
    "    r=[i for i in range(1,2*2*k*val,3)]; y=[i for i in range(2,2*2*k*val,3)]; b=[i for i in range(3,2*2*k*val,3)]\n",
    "    ref_dict={'red':r, 'yellow':y, 'blue':b}\n",
    "    # print(ref_dict)\n",
    "    rec_seq=rec_list(k,val)\n",
    "    # cntd - Dec-11-2K18\n",
    "    # print(rec_seq)\n",
    "    num = [i for i in ref_dict[col] if i > val and i in rec_seq]\n",
    "    num.sort()\n",
    "    # print(num)\n",
    "    if len(num) < k:\n",
    "        return []\n",
    "    else:\n",
    "        return num[:k]\n",
    "        "
   ]
  },
  {
   "cell_type": "code",
   "execution_count": 33,
   "metadata": {},
   "outputs": [
    {
     "data": {
      "text/plain": [
       "[55]"
      ]
     },
     "execution_count": 33,
     "metadata": {},
     "output_type": "execute_result"
    }
   ],
   "source": [
    "same_col_seq(50,1,'red')"
   ]
  },
  {
   "cell_type": "code",
   "execution_count": 34,
   "metadata": {},
   "outputs": [
    {
     "data": {
      "text/plain": [
       "[6, 15, 21]"
      ]
     },
     "execution_count": 34,
     "metadata": {},
     "output_type": "execute_result"
    }
   ],
   "source": [
    "same_col_seq(3, 3, 'blue')"
   ]
  },
  {
   "cell_type": "code",
   "execution_count": 35,
   "metadata": {},
   "outputs": [
    {
     "data": {
      "text/plain": [
       "[136, 190, 253, 325]"
      ]
     },
     "execution_count": 35,
     "metadata": {},
     "output_type": "execute_result"
    }
   ],
   "source": [
    "same_col_seq(100, 4, 'red')"
   ]
  },
  {
   "cell_type": "code",
   "execution_count": 36,
   "metadata": {},
   "outputs": [
    {
     "data": {
      "text/plain": [
       "[]"
      ]
     },
     "execution_count": 36,
     "metadata": {},
     "output_type": "execute_result"
    }
   ],
   "source": [
    "same_col_seq(250, 6, 'yellow')"
   ]
  },
  {
   "cell_type": "code",
   "execution_count": 37,
   "metadata": {},
   "outputs": [
    {
     "data": {
      "text/plain": [
       "[1081, 1225, 1378, 1540, 1711, 1891, 2080]"
      ]
     },
     "execution_count": 37,
     "metadata": {},
     "output_type": "execute_result"
    }
   ],
   "source": [
    "same_col_seq(1000, 7, 'red')"
   ]
  },
  {
   "cell_type": "markdown",
   "metadata": {},
   "source": [
    "Try on codewars again and see if it runs! Nope. TimeOut!"
   ]
  },
  {
   "cell_type": "code",
   "execution_count": null,
   "metadata": {},
   "outputs": [],
   "source": []
  }
 ],
 "metadata": {
  "kernelspec": {
   "display_name": "Python 3",
   "language": "python",
   "name": "python3"
  },
  "language_info": {
   "codemirror_mode": {
    "name": "ipython",
    "version": 3
   },
   "file_extension": ".py",
   "mimetype": "text/x-python",
   "name": "python",
   "nbconvert_exporter": "python",
   "pygments_lexer": "ipython3",
   "version": "3.5.2"
  }
 },
 "nbformat": 4,
 "nbformat_minor": 2
}
