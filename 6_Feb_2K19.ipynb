{
 "cells": [
  {
   "cell_type": "markdown",
   "metadata": {},
   "source": [
    "5 kyu -> Find the smallest"
   ]
  },
  {
   "cell_type": "raw",
   "metadata": {},
   "source": [
    "You have a positive number n consisting of digits. \n",
    "\n",
    "You can do at most one operation: \n",
    "Choosing the index of a digit in the number -> remove this digit at that index and insert it back to another place in the number.\n",
    "\n",
    "Doing so, find the smallest number you can get.\n",
    "\n",
    "Task: Return an array(List) or a tuple or a string depending on the language (see \"Sample Tests\") with\n",
    "1) the smallest number you got\n",
    "2) the index i of the digit d you took, i as small as possible\n",
    "3) the index j (as small as possible) where you insert this digit d to have the smallest number.\n",
    "\n",
    "i.e., \n",
    "\n",
    "smallest(261235) --> [126235, 2, 0] or (126235, 2, 0) or \"126235, 2, 0\"\n",
    "\n",
    "smallest(209917) --> [29917, 0, 1] or ...\n",
    "\n",
    "[29917, 1, 0] could be a solution too but index `i` in [29917, 1, 0] is greater than \n",
    "index `i` in [29917, 0, 1].\n",
    "\n",
    "Test.describe(\"smallest\") \n",
    "Test.it(\"Basic tests\") \n",
    "testing(261235, [126235, 2, 0]);\n",
    "testing(209917, [29917, 0, 1]);\n",
    "testing(285365, [238565, 3, 1]);\n",
    "testing(269045, [26945, 3, 0]);\n",
    "testing(296837, [239687, 4, 1]);"
   ]
  },
  {
   "cell_type": "raw",
   "metadata": {},
   "source": [
    "Pseudocode:\n",
    "convert it into a string and compare each digit in the number and check if a swap btw those digits makes the resulting number the smallest -> also, store the index positions of the digits being swapped and finally append them along with the resultant number  \n",
    "\n",
    "If the 1st digit is the smallest, then \n",
    "    move to next digit"
   ]
  },
  {
   "cell_type": "code",
   "execution_count": 5,
   "metadata": {},
   "outputs": [],
   "source": [
    "def smallest(n):\n",
    "    # your code\n",
    "    n=str(n)\n",
    "    print(n,type(n),n[0])"
   ]
  },
  {
   "cell_type": "code",
   "execution_count": 7,
   "metadata": {},
   "outputs": [
    {
     "name": "stdout",
     "output_type": "stream",
     "text": [
      "261235 <class 'str'> 2\n"
     ]
    }
   ],
   "source": [
    "smallest(261235)"
   ]
  },
  {
   "cell_type": "code",
   "execution_count": 13,
   "metadata": {},
   "outputs": [
    {
     "name": "stdout",
     "output_type": "stream",
     "text": [
      "['2', '9', '6', '8', '3', '7']\n"
     ]
    }
   ],
   "source": [
    "n=296837\n",
    "\n",
    "lst1=list(str(n))\n",
    "print(lst1)"
   ]
  },
  {
   "cell_type": "code",
   "execution_count": null,
   "metadata": {},
   "outputs": [],
   "source": []
  }
 ],
 "metadata": {
  "kernelspec": {
   "display_name": "Python 3",
   "language": "python",
   "name": "python3"
  },
  "language_info": {
   "codemirror_mode": {
    "name": "ipython",
    "version": 3
   },
   "file_extension": ".py",
   "mimetype": "text/x-python",
   "name": "python",
   "nbconvert_exporter": "python",
   "pygments_lexer": "ipython3",
   "version": "3.5.2"
  }
 },
 "nbformat": 4,
 "nbformat_minor": 2
}
